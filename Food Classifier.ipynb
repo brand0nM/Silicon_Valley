{
 "cells": [
  {
   "cell_type": "code",
   "execution_count": 1,
   "id": "a9040db5",
   "metadata": {},
   "outputs": [],
   "source": [
    "import os\n",
    "import time\n",
    "import PIL\n",
    "import glob \n",
    "import base64 # Decode Image\n",
    "import random\n",
    "import requests\n",
    "import numpy as np\n",
    "import pandas as pd\n",
    "from PIL import Image # Graph Images\n",
    "from skimage import io # Modify Image\n",
    "import tensorflow as tf\n",
    "from pathlib import Path\n",
    "from splinter import Browser # Automate Webactions\n",
    "from os.path  import basename\n",
    "from bs4 import BeautifulSoup as soup # Scrape Webdata\n",
    "from sklearn.model_selection import train_test_split\n",
    "from webdriver_manager.chrome import ChromeDriverManager # brew install chromedriver\n",
    "from sklearn.preprocessing import StandardScaler,OneHotEncoder"
   ]
  },
  {
   "cell_type": "markdown",
   "id": "b75a550a",
   "metadata": {},
   "source": [
    "## Scrape Produce Data\n",
    "### Get Produce Names"
   ]
  },
  {
   "cell_type": "code",
   "execution_count": 2,
   "id": "f0d1bfb0",
   "metadata": {},
   "outputs": [
    {
     "name": "stderr",
     "output_type": "stream",
     "text": [
      "\n",
      "\n",
      "====== WebDriver manager ======\n",
      "Current google-chrome version is 105.0.5195\n",
      "Get LATEST chromedriver version for 105.0.5195 google-chrome\n",
      "Driver [/Users/brandon/.wdm/drivers/chromedriver/mac64/105.0.5195.52/chromedriver] found in cache\n"
     ]
    },
    {
     "name": "stdout",
     "output_type": "stream",
     "text": [
      "There are 121 Produce items considered\n",
      "['Red Apples', 'Blood Oranges', 'Cherries', 'Cranberries', 'Red Grapes']\n"
     ]
    }
   ],
   "source": [
    "executable_path = {'executable_path': ChromeDriverManager().install()} # webdriver to automate chrome\n",
    "browser = Browser('chrome', **executable_path, headless=False)\n",
    "\n",
    "# visit fruits and vegitables website\n",
    "browser.visit('https://fruitsandveggies.org/stories/fruit-and-veggie-color-list/')\n",
    "fruitnveg_soup = soup(browser.html, 'html.parser') # convert to soup object\n",
    "produce = fruitnveg_soup.table.find_all('a') # find all fruits and vegetables\n",
    "for item in range(len(produce)): # extract names from soup object\n",
    "    produce[item] = produce[item].get_text() # add current item to list\n",
    "\n",
    "print('There are '+str(len(produce))+' Produce items considered')   \n",
    "print(produce[:5])"
   ]
  },
  {
   "cell_type": "markdown",
   "id": "03b6b5b8",
   "metadata": {},
   "source": [
    "### Get Produce Pictures"
   ]
  },
  {
   "cell_type": "code",
   "execution_count": 3,
   "id": "2b813d6d",
   "metadata": {},
   "outputs": [
    {
     "name": "stdout",
     "output_type": "stream",
     "text": [
      "Directory Exists\n",
      "Directory Exists\n",
      "Directory Exists\n",
      "Directory Exists\n",
      "Directory Exists\n",
      "Directory Exists\n",
      "Directory Exists\n",
      "Directory Exists\n",
      "Directory Exists\n",
      "Directory Exists\n",
      "Directory Exists\n",
      "Directory Exists\n",
      "Directory Exists\n",
      "Directory Exists\n",
      "Directory Exists\n",
      "Directory Exists\n",
      "Directory Exists\n",
      "Directory Exists\n",
      "Directory Exists\n",
      "Directory Exists\n",
      "Directory Exists\n",
      "Directory Exists\n",
      "Directory Exists\n",
      "Directory Exists\n",
      "Directory Exists\n",
      "Directory Exists\n",
      "Directory Exists\n",
      "Directory Exists\n",
      "Directory Exists\n",
      "Directory Exists\n",
      "Directory Exists\n",
      "Directory Exists\n",
      "Directory Exists\n",
      "Directory Exists\n",
      "Directory Exists\n",
      "Directory Exists\n",
      "Directory Exists\n",
      "Directory Exists\n",
      "Directory Exists\n",
      "Directory Exists\n",
      "Directory Exists\n",
      "Directory Exists\n",
      "Directory Exists\n",
      "Directory Exists\n",
      "Directory Exists\n",
      "Directory Exists\n",
      "Directory Exists\n",
      "Directory Exists\n",
      "Directory Exists\n",
      "Directory Exists\n",
      "Directory Exists\n",
      "Directory Exists\n",
      "Directory Exists\n",
      "Directory Exists\n",
      "Directory Exists\n",
      "Directory Exists\n",
      "Directory Exists\n",
      "Directory Exists\n",
      "Directory Exists\n",
      "Directory Exists\n",
      "Directory Exists\n",
      "Directory Exists\n",
      "Directory Exists\n",
      "Directory Exists\n",
      "Directory Exists\n",
      "Directory Exists\n",
      "Directory Exists\n",
      "Directory Exists\n",
      "Directory Exists\n",
      "Directory Exists\n",
      "Directory Exists\n",
      "Directory Exists\n",
      "Directory Exists\n",
      "Directory Exists\n",
      "Directory Exists\n",
      "Directory Exists\n",
      "Directory Exists\n",
      "Directory Exists\n",
      "Directory Exists\n",
      "Directory Exists\n",
      "Directory Exists\n",
      "Directory Exists\n",
      "Directory Exists\n",
      "Directory Exists\n",
      "Directory Exists\n",
      "Directory Exists\n",
      "Directory Exists\n",
      "Directory Exists\n",
      "Directory Exists\n",
      "Directory Exists\n",
      "Directory Exists\n",
      "Directory Exists\n",
      "Directory Exists\n",
      "Directory Exists\n",
      "Directory Exists\n",
      "Directory Exists\n",
      "Directory Exists\n",
      "Directory Exists\n",
      "Directory Exists\n",
      "Directory Exists\n",
      "Directory Exists\n",
      "Directory Exists\n",
      "Directory Exists\n",
      "Directory Exists\n",
      "Directory Exists\n",
      "Directory Exists\n",
      "Directory Exists\n",
      "Directory Exists\n",
      "Directory Exists\n",
      "Directory Exists\n",
      "Directory Exists\n",
      "Directory Exists\n",
      "Directory Exists\n",
      "Directory Exists\n",
      "Directory Exists\n",
      "Directory Exists\n",
      "Directory Exists\n"
     ]
    },
    {
     "data": {
      "text/html": [
       "<div>\n",
       "<style scoped>\n",
       "    .dataframe tbody tr th:only-of-type {\n",
       "        vertical-align: middle;\n",
       "    }\n",
       "\n",
       "    .dataframe tbody tr th {\n",
       "        vertical-align: top;\n",
       "    }\n",
       "\n",
       "    .dataframe thead th {\n",
       "        text-align: right;\n",
       "    }\n",
       "</style>\n",
       "<table border=\"1\" class=\"dataframe\">\n",
       "  <thead>\n",
       "    <tr style=\"text-align: right;\">\n",
       "      <th></th>\n",
       "      <th>nameId</th>\n",
       "      <th>name</th>\n",
       "      <th>width</th>\n",
       "      <th>height</th>\n",
       "      <th>encodedPic</th>\n",
       "    </tr>\n",
       "  </thead>\n",
       "  <tbody>\n",
       "    <tr>\n",
       "      <th>0</th>\n",
       "      <td>Pictures/Red_Apples/Red_Apples1.png</td>\n",
       "      <td>Red_Apples</td>\n",
       "      <td>100</td>\n",
       "      <td>100</td>\n",
       "      <td>[[[110, 109, 123], [109, 108, 122], [107, 106,...</td>\n",
       "    </tr>\n",
       "    <tr>\n",
       "      <th>1</th>\n",
       "      <td>Pictures/Red_Apples/Red_Apples2.png</td>\n",
       "      <td>Red_Apples</td>\n",
       "      <td>100</td>\n",
       "      <td>100</td>\n",
       "      <td>[[[255, 254, 255], [255, 255, 255], [255, 255,...</td>\n",
       "    </tr>\n",
       "    <tr>\n",
       "      <th>2</th>\n",
       "      <td>Pictures/Red_Apples/Red_Apples3.png</td>\n",
       "      <td>Red_Apples</td>\n",
       "      <td>100</td>\n",
       "      <td>100</td>\n",
       "      <td>[[[255, 255, 255], [255, 255, 255], [255, 254,...</td>\n",
       "    </tr>\n",
       "    <tr>\n",
       "      <th>3</th>\n",
       "      <td>Pictures/Red_Apples/Red_Apples4.png</td>\n",
       "      <td>Red_Apples</td>\n",
       "      <td>100</td>\n",
       "      <td>100</td>\n",
       "      <td>[[[209, 209, 209], [209, 209, 209], [209, 209,...</td>\n",
       "    </tr>\n",
       "    <tr>\n",
       "      <th>4</th>\n",
       "      <td>Pictures/Red_Apples/Red_Apples5.png</td>\n",
       "      <td>Red_Apples</td>\n",
       "      <td>100</td>\n",
       "      <td>100</td>\n",
       "      <td>[[[55, 45, 10], [45, 39, 5], [59, 56, 25], [55...</td>\n",
       "    </tr>\n",
       "  </tbody>\n",
       "</table>\n",
       "</div>"
      ],
      "text/plain": [
       "                                nameId        name  width  height  \\\n",
       "0  Pictures/Red_Apples/Red_Apples1.png  Red_Apples    100     100   \n",
       "1  Pictures/Red_Apples/Red_Apples2.png  Red_Apples    100     100   \n",
       "2  Pictures/Red_Apples/Red_Apples3.png  Red_Apples    100     100   \n",
       "3  Pictures/Red_Apples/Red_Apples4.png  Red_Apples    100     100   \n",
       "4  Pictures/Red_Apples/Red_Apples5.png  Red_Apples    100     100   \n",
       "\n",
       "                                          encodedPic  \n",
       "0  [[[110, 109, 123], [109, 108, 122], [107, 106,...  \n",
       "1  [[[255, 254, 255], [255, 255, 255], [255, 255,...  \n",
       "2  [[[255, 255, 255], [255, 255, 255], [255, 254,...  \n",
       "3  [[[209, 209, 209], [209, 209, 209], [209, 209,...  \n",
       "4  [[[55, 45, 10], [45, 39, 5], [59, 56, 25], [55...  "
      ]
     },
     "execution_count": 3,
     "metadata": {},
     "output_type": "execute_result"
    }
   ],
   "source": [
    "def download_images(links, name, dirname, j): # Google images host through encodedbytes\n",
    "    png_array=  links\n",
    "    png_array = png_array.split(\",\")\n",
    "    png_array = png_array[1].encode()\n",
    "    pathImg = dirname+'/'+name+str(j)+'.png'\n",
    "    fh = open(pathImg, \"wb\")\n",
    "    fh.write(base64.decodebytes(png_array))\n",
    "    fh.close()\n",
    "\n",
    "produce_table = {'nameId':[],'name':[],'width':[],'height':[],'encodedPic':[]} # Initialize DataFrame\n",
    "for item in produce:\n",
    "    if item != '': # If item is not null\n",
    "        item = item.replace(' ','_') # Clean name\n",
    "        image_path = 'Pictures/'+item\n",
    "        try:\n",
    "            os.mkdir(image_path) # Create directory to hold fruit-pics\n",
    "        except:\n",
    "            print('Directory Exists')\n",
    "\n",
    "        home = 'https://images.google.com/' # Define 'Homepage'\n",
    "        browser.visit(home) # Go to google\n",
    "        time.sleep(random.random()*random.randint(1,6)) # Randomization, avoids chromes CAPTCHA\n",
    "        browser.find_by_xpath( # Fill item\n",
    "            '/html/body/div[1]/div[3]/form/div[1]/div[1]/div[1]/div/div[2]/input'\n",
    "        ).fill(item)\n",
    "        time.sleep(random.random()*random.randint(1,3))\n",
    "        browser.find_by_xpath( # Click search button\n",
    "            '/html/body/div[1]/div[3]/form/div[1]/div[1]/div[1]/button'\n",
    "        ).click()\n",
    "\n",
    "        Picture_soup = soup(browser.html, 'html.parser') # Convert Item Image Page to Soup\n",
    "        Produce_Item_Images = Picture_soup.find_all('img') # Get all Images of Item\n",
    "        j=0 # initailize counter\n",
    "        for i in range(len(Produce_Item_Images)): # Download top images\n",
    "            if Produce_Item_Images[i].get('data-deferred') == '1': # If top images\n",
    "                lnk = Produce_Item_Images[i].get('src') # Get src\n",
    "                try:\n",
    "                    download_images(lnk, item, image_path, j) # Download image with unique naming\n",
    "                    new_image_path = image_path+'/'+item+str(j)+'.png'\n",
    "                    get_encoding = glob.glob(new_image_path)\n",
    "                    image = io.imread(get_encoding[0]) # Encode Image in RGB\n",
    "                    produce_table['nameId'].append(new_image_path) # Add attributes to DataFrame\n",
    "                    produce_table['name'].append(item) \n",
    "                    produce_table['width'].append(len(image[0])) # Double check images were cropped\n",
    "                    produce_table['height'].append(len(image)) \n",
    "                    produce_table['encodedPic'].append(image)            \n",
    "                        \n",
    "                except:\n",
    "                    status = 0\n",
    "                    \n",
    "                j += 1\n",
    "\n",
    "raw_produce = pd.DataFrame(produce_table)\n",
    "raw_produce.head()"
   ]
  },
  {
   "cell_type": "markdown",
   "id": "f68a572e",
   "metadata": {},
   "source": [
    "## Preprocess Images"
   ]
  },
  {
   "cell_type": "code",
   "execution_count": 25,
   "id": "4dfe73d6",
   "metadata": {},
   "outputs": [
    {
     "data": {
      "image/png": "[encoded data removed]",
      "text/plain": [
       "<PIL.JpegImagePlugin.JpegImageFile image mode=RGB size=100x100>"
      ]
     },
     "execution_count": 25,
     "metadata": {},
     "output_type": "execute_result"
    }
   ],
   "source": [
    "data_dir = Path('Pictures/')\n",
    "\n",
    "\n",
    "apples = list(data_dir.glob('Red_Apples/*'))\n",
    "PIL.Image.open(apples[0])\n"
   ]
  },
  {
   "cell_type": "code",
   "execution_count": 26,
   "id": "456dcf67",
   "metadata": {},
   "outputs": [
    {
     "name": "stdout",
     "output_type": "stream",
     "text": [
      "Found 3807 files belonging to 116 classes.\n",
      "Using 3046 files for training.\n",
      "3807\n"
     ]
    }
   ],
   "source": [
    "train_ds = tf.keras.utils.image_dataset_from_directory( # Define Directory of Images\n",
    "    data_dir, validation_split=0.2, subset=\"training\", seed=123, \n",
    "    image_size=(100, 100), batch_size=32)\n",
    "\n",
    "image_count = len(list(data_dir.glob('*/*.png')))\n",
    "print(image_count)"
   ]
  },
  {
   "cell_type": "code",
   "execution_count": 27,
   "id": "db486de6",
   "metadata": {},
   "outputs": [
    {
     "name": "stdout",
     "output_type": "stream",
     "text": [
      "Found 3807 files belonging to 116 classes.\n",
      "Using 761 files for validation.\n"
     ]
    }
   ],
   "source": [
    "val_ds = tf.keras.utils.image_dataset_from_directory(\n",
    "    data_dir, validation_split=0.2, subset=\"validation\", seed=123,\n",
    "    image_size=(100, 100), batch_size=32)"
   ]
  },
  {
   "cell_type": "code",
   "execution_count": 28,
   "id": "dd6b9ef3",
   "metadata": {},
   "outputs": [
    {
     "name": "stdout",
     "output_type": "stream",
     "text": [
      "['Apricots', 'Artichokes', 'Arugula', 'Asparagus', 'Avocados', 'Bananas', 'Beets', 'Black_Currants', 'Black_Olives_', 'Black_Salsify', 'Blackberries', 'Blood_Oranges', 'Blueberries', 'Broccoflower_', 'Broccoli', 'Broccoli_Rabe', 'Brown_Pears', 'Brussels_Sprouts', 'Butternut_Squash', 'Cantaloupe', 'Cape_Gooseberries', 'Carrots', 'Cauliflower', 'Celery', 'Chayote_Squash', 'Cherries', 'Chinese_Cabbage', 'Concord_Grapes', 'Cranberries', 'Cucumbers', 'Dates', 'Dried_Plums', 'Eggplant', 'Elderberries', 'Endive', 'Garlic', 'Ginger', 'Golden_Kiwifruit', 'Grape_Juice_(100%)', 'Grapefruit', 'Green_Apples', 'Green_Beans', 'Green_Cabbage', 'Green_Grapes', 'Green_Onions', 'Green_Peas', 'Green_Peppers', 'Honeydew', 'Jerusalem_Artichokes', 'Jicama', 'Kiwifruit', 'Kohlrabi', 'Leeks', 'Lemons', 'Lettuce', 'Limes', 'Mangoes', 'Mushrooms', 'Nectarines', 'Okra', 'Onions', 'Oranges', 'Papayas', 'Parsnips', 'Peaches', 'Peas', 'Persimmons', 'Pineapples', 'Plums', 'Pomegranates', 'Potatoes_(White_Fleshed)', 'Potatoes_(purple_fleshed)', 'Pumpkin', 'Purple_Asparagus', 'Purple_Belgian_Endive', 'Purple_Carrots', 'Purple_Figs', 'Purple_Grapes', 'Purple_Peppers', 'Radicchio', 'Radishes', 'Raisins', 'Raspberries', 'Red_Apples', 'Red_Grapes', 'Red_Onions', 'Red_Pears', 'Red_Peppers', 'Red_Potatoes', 'Rhubarb', 'Rutabagas', 'Shallots', 'Snow_Peas', 'Spinach', 'Strawberries', 'Sugar_Snap_Peas', 'Sweet_Corn', 'Sweet_Potatoes', 'Tangerines', 'Tomatoes', 'Turnips', 'Watercress_', 'Watermelon', 'White_Corn', 'White_Nectarines', 'White_Peaches', 'Yellow_Apples', 'Yellow_Beets', 'Yellow_Figs', 'Yellow_Pears', 'Yellow_Peppers', 'Yellow_Potatoes', 'Yellow_Summer_Squash', 'Yellow_Tomatoes', 'Yellow_Watermelon', 'Zucchini']\n"
     ]
    }
   ],
   "source": [
    "class_names = train_ds.class_names\n",
    "print(class_names)"
   ]
  },
  {
   "cell_type": "code",
   "execution_count": 8,
   "id": "ccd793b7",
   "metadata": {},
   "outputs": [],
   "source": [
    "# import matplotlib.pyplot as plt\n",
    "\n",
    "# plt.figure(figsize=(10, 10))\n",
    "# for images, labels in train_ds.take(1):\n",
    "#     for i in range(9):\n",
    "#         ax = plt.subplot(3, 3, i + 1)\n",
    "#         plt.imshow(images[i].numpy().astype(\"uint8\"))\n",
    "#         plt.title(class_names[labels[i]])\n",
    "#         plt.axis(\"off\")"
   ]
  },
  {
   "cell_type": "code",
   "execution_count": 29,
   "id": "c44a1288",
   "metadata": {},
   "outputs": [
    {
     "name": "stdout",
     "output_type": "stream",
     "text": [
      "(32, 100, 100, 3)\n",
      "(32,)\n"
     ]
    }
   ],
   "source": [
    "for image_batch, labels_batch in train_ds:\n",
    "    print(image_batch.shape)\n",
    "    print(labels_batch.shape)\n",
    "    break"
   ]
  },
  {
   "cell_type": "markdown",
   "id": "993788e7",
   "metadata": {},
   "source": [
    "The image_batch is a tensor of the shape (32, 180, 180, 3). This is a batch of 32 images of shape 180x180x3 (the last dimension refers to color channels RGB). The label_batch is a tensor of the shape (32,), these are corresponding labels to the 32 images.\n",
    "\n",
    "You can call .numpy() on either of these tensors to convert them to a numpy.ndarray."
   ]
  },
  {
   "cell_type": "markdown",
   "id": "946790bf",
   "metadata": {},
   "source": [
    "### Standardize the data\n",
    "The RGB channel values are in the [0, 255] range. This is not ideal for a neural network; in general you should seek to make your input values small.\n",
    "\n",
    "Here, you will standardize values to be in the [0, 1] range by using tf.keras.layers.Rescaling"
   ]
  },
  {
   "cell_type": "code",
   "execution_count": 30,
   "id": "677ef0d3",
   "metadata": {},
   "outputs": [
    {
     "name": "stdout",
     "output_type": "stream",
     "text": [
      "0.0 1.0\n"
     ]
    }
   ],
   "source": [
    "normalization_layer = tf.keras.layers.Rescaling(1./255)\n",
    "normalized_ds = train_ds.map(lambda x, y: (normalization_layer(x), y))\n",
    "image_batch, labels_batch = next(iter(normalized_ds))\n",
    "first_image = image_batch[0]\n",
    "\n",
    "print(np.min(first_image), np.max(first_image))"
   ]
  },
  {
   "cell_type": "markdown",
   "id": "7a5529bc",
   "metadata": {},
   "source": [
    "Configure the dataset for performance\n",
    "Let's make sure to use buffered prefetching so you can yield data from disk without having I/O become blocking. These are two important methods you should use when loading data:\n",
    "\n",
    "- Dataset.cache keeps the images in memory after they're loaded off disk during the first epoch. This will ensure the dataset does not become a bottleneck while training your model. If your dataset is too large to fit into memory, you can also use this method to create a performant on-disk cache.\n",
    "- Dataset.prefetch overlaps data preprocessing and model execution while training.\n",
    "\n",
    "Interested readers can learn more about both methods, as well as how to cache data to disk in the Prefetching section of the Better performance with the tf.data API guide.\n",
    "\n",
    "\n"
   ]
  },
  {
   "cell_type": "code",
   "execution_count": 35,
   "id": "9dfdd6ee",
   "metadata": {},
   "outputs": [],
   "source": [
    "AUTOTUNE = tf.data.AUTOTUNE\n",
    "\n",
    "train_ds = train_ds.cache().prefetch(buffer_size=AUTOTUNE)\n",
    "val_ds = val_ds.cache().prefetch(buffer_size=AUTOTUNE)"
   ]
  },
  {
   "cell_type": "code",
   "execution_count": 36,
   "id": "4387e150",
   "metadata": {},
   "outputs": [],
   "source": [
    "model = tf.keras.Sequential([\n",
    "    tf.keras.layers.Rescaling(1./255),\n",
    "    tf.keras.layers.Conv2D(32, 3, activation='relu'),\n",
    "    tf.keras.layers.MaxPooling2D(),\n",
    "    tf.keras.layers.Conv2D(32, 3, activation='relu'),\n",
    "    tf.keras.layers.MaxPooling2D(),\n",
    "    tf.keras.layers.Conv2D(32, 3, activation='relu'),\n",
    "    tf.keras.layers.MaxPooling2D(),\n",
    "    tf.keras.layers.Flatten(),\n",
    "    tf.keras.layers.Dense(128, activation='relu'),\n",
    "    tf.keras.layers.Dense(len(class_names))\n",
    "])"
   ]
  },
  {
   "cell_type": "code",
   "execution_count": 37,
   "id": "85d7eed0",
   "metadata": {},
   "outputs": [],
   "source": [
    "model.compile(optimizer='adam', metrics=['accuracy'],\n",
    "  loss=tf.keras.losses.SparseCategoricalCrossentropy(from_logits=True))\n"
   ]
  },
  {
   "cell_type": "code",
   "execution_count": 38,
   "id": "95b47c6e",
   "metadata": {},
   "outputs": [
    {
     "name": "stdout",
     "output_type": "stream",
     "text": [
      "Epoch 1/7\n",
      "96/96 [==============================] - 19s 193ms/step - loss: 4.7299 - accuracy: 0.0098 - val_loss: 4.5879 - val_accuracy: 0.0276\n",
      "Epoch 2/7\n",
      "96/96 [==============================] - 21s 217ms/step - loss: 4.2716 - accuracy: 0.0407 - val_loss: 3.9301 - val_accuracy: 0.0486\n",
      "Epoch 3/7\n",
      "96/96 [==============================] - 21s 214ms/step - loss: 3.8234 - accuracy: 0.0854 - val_loss: 3.7500 - val_accuracy: 0.0933\n",
      "Epoch 4/7\n",
      "96/96 [==============================] - 21s 216ms/step - loss: 3.5692 - accuracy: 0.1297 - val_loss: 3.6397 - val_accuracy: 0.1301\n",
      "Epoch 5/7\n",
      "96/96 [==============================] - 21s 217ms/step - loss: 3.2801 - accuracy: 0.1891 - val_loss: 3.6621 - val_accuracy: 0.1472\n",
      "Epoch 6/7\n",
      "96/96 [==============================] - 21s 217ms/step - loss: 2.9878 - accuracy: 0.2587 - val_loss: 3.7583 - val_accuracy: 0.1459\n",
      "Epoch 7/7\n",
      "96/96 [==============================] - 21s 217ms/step - loss: 2.7422 - accuracy: 0.3129 - val_loss: 3.8888 - val_accuracy: 0.1367\n"
     ]
    },
    {
     "data": {
      "text/plain": [
       "<keras.callbacks.History at 0x7f9da92c7c40>"
      ]
     },
     "execution_count": 38,
     "metadata": {},
     "output_type": "execute_result"
    }
   ],
   "source": [
    "model.fit(train_ds, validation_data=val_ds, epochs=7)"
   ]
  },
  {
   "cell_type": "markdown",
   "id": "b7c0df14",
   "metadata": {},
   "source": [
    "## Make Predictions"
   ]
  },
  {
   "cell_type": "code",
   "execution_count": 40,
   "id": "2a8180bc",
   "metadata": {},
   "outputs": [
    {
     "name": "stdout",
     "output_type": "stream",
     "text": [
      "Found 1 files belonging to 1 classes.\n",
      "0.0 1.0\n"
     ]
    }
   ],
   "source": [
    "img = Path('Test')\n",
    "img_generator = tf.keras.preprocessing.image_dataset_from_directory(\n",
    "    img, batch_size=32, image_size=(100,100)\n",
    ")\n",
    "normalization_layer = tf.keras.layers.Rescaling(1./255)\n",
    "normalized_ds = img_generator.map(lambda x, y: (normalization_layer(x), y))\n",
    "image_batch, labels_batch = next(iter(normalized_ds))\n",
    "first_image = image_batch[0]\n",
    "\n",
    "AUTOTUNE = tf.data.AUTOTUNE\n",
    "\n",
    "img_generator = img_generator.cache().prefetch(buffer_size=AUTOTUNE)"
   ]
  },
  {
   "cell_type": "code",
   "execution_count": 47,
   "id": "d4716f34",
   "metadata": {},
   "outputs": [
    {
     "name": "stdout",
     "output_type": "stream",
     "text": [
      "1/1 [==============================] - 0s 10ms/step\n"
     ]
    },
    {
     "data": {
      "text/html": [
       "<div>\n",
       "<style scoped>\n",
       "    .dataframe tbody tr th:only-of-type {\n",
       "        vertical-align: middle;\n",
       "    }\n",
       "\n",
       "    .dataframe tbody tr th {\n",
       "        vertical-align: top;\n",
       "    }\n",
       "\n",
       "    .dataframe thead th {\n",
       "        text-align: right;\n",
       "    }\n",
       "</style>\n",
       "<table border=\"1\" class=\"dataframe\">\n",
       "  <thead>\n",
       "    <tr style=\"text-align: right;\">\n",
       "      <th></th>\n",
       "      <th>Apricots</th>\n",
       "      <th>Artichokes</th>\n",
       "      <th>Arugula</th>\n",
       "      <th>Asparagus</th>\n",
       "      <th>Avocados</th>\n",
       "      <th>Bananas</th>\n",
       "      <th>Beets</th>\n",
       "      <th>Black_Currants</th>\n",
       "      <th>Black_Olives_</th>\n",
       "      <th>Black_Salsify</th>\n",
       "      <th>...</th>\n",
       "      <th>Yellow_Apples</th>\n",
       "      <th>Yellow_Beets</th>\n",
       "      <th>Yellow_Figs</th>\n",
       "      <th>Yellow_Pears</th>\n",
       "      <th>Yellow_Peppers</th>\n",
       "      <th>Yellow_Potatoes</th>\n",
       "      <th>Yellow_Summer_Squash</th>\n",
       "      <th>Yellow_Tomatoes</th>\n",
       "      <th>Yellow_Watermelon</th>\n",
       "      <th>Zucchini</th>\n",
       "    </tr>\n",
       "  </thead>\n",
       "  <tbody>\n",
       "    <tr>\n",
       "      <th>0</th>\n",
       "      <td>-3.709516</td>\n",
       "      <td>-11.84239</td>\n",
       "      <td>-10.394814</td>\n",
       "      <td>-12.435935</td>\n",
       "      <td>-15.505508</td>\n",
       "      <td>-10.20803</td>\n",
       "      <td>0.02225</td>\n",
       "      <td>-4.617765</td>\n",
       "      <td>-6.692712</td>\n",
       "      <td>-9.867864</td>\n",
       "      <td>...</td>\n",
       "      <td>-9.334214</td>\n",
       "      <td>-6.154724</td>\n",
       "      <td>-3.856964</td>\n",
       "      <td>-11.810272</td>\n",
       "      <td>-10.68259</td>\n",
       "      <td>-11.225958</td>\n",
       "      <td>-14.611511</td>\n",
       "      <td>-11.966071</td>\n",
       "      <td>-6.862919</td>\n",
       "      <td>-11.636515</td>\n",
       "    </tr>\n",
       "  </tbody>\n",
       "</table>\n",
       "<p>1 rows × 116 columns</p>\n",
       "</div>"
      ],
      "text/plain": [
       "   Apricots  Artichokes    Arugula  Asparagus   Avocados   Bananas    Beets  \\\n",
       "0 -3.709516   -11.84239 -10.394814 -12.435935 -15.505508 -10.20803  0.02225   \n",
       "\n",
       "   Black_Currants  Black_Olives_  Black_Salsify  ...  Yellow_Apples  \\\n",
       "0       -4.617765      -6.692712      -9.867864  ...      -9.334214   \n",
       "\n",
       "   Yellow_Beets  Yellow_Figs  Yellow_Pears  Yellow_Peppers  Yellow_Potatoes  \\\n",
       "0     -6.154724    -3.856964    -11.810272       -10.68259       -11.225958   \n",
       "\n",
       "   Yellow_Summer_Squash  Yellow_Tomatoes  Yellow_Watermelon   Zucchini  \n",
       "0            -14.611511       -11.966071          -6.862919 -11.636515  \n",
       "\n",
       "[1 rows x 116 columns]"
      ]
     },
     "execution_count": 47,
     "metadata": {},
     "output_type": "execute_result"
    }
   ],
   "source": [
    "preds = model.predict(img_generator)\n",
    "pd.DataFrame(preds, columns = class_names)"
   ]
  }
 ],
 "metadata": {
  "kernelspec": {
   "display_name": "Python 3 (ipykernel)",
   "language": "python",
   "name": "python3"
  },
  "language_info": {
   "codemirror_mode": {
    "name": "ipython",
    "version": 3
   },
   "file_extension": ".py",
   "mimetype": "text/x-python",
   "name": "python",
   "nbconvert_exporter": "python",
   "pygments_lexer": "ipython3",
   "version": "3.9.12"
  }
 },
 "nbformat": 4,
 "nbformat_minor": 5
}
